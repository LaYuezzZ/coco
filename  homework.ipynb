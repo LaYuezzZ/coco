{
 "cells": [
  {
   "cell_type": "code",
   "execution_count": 1,
   "metadata": {},
   "outputs": [
    {
     "name": "stdout",
     "output_type": "stream",
     "text": [
      "可以观看电影\n"
     ]
    }
   ],
   "source": [
    "class age(object):\n",
    "    def __init__(self,a):\n",
    "        if 18<= a <=20:\n",
    "            print(\"可以观看电影\")\n",
    "        elif 20< a <=50:\n",
    "            print(\"可以观看血腥片\")\n",
    "        else:\n",
    "            print(\"就别看了\")\n",
    "b=age(20)"
   ]
  },
  {
   "cell_type": "code",
   "execution_count": 3,
   "metadata": {},
   "outputs": [
    {
     "name": "stdout",
     "output_type": "stream",
     "text": [
      "老年\n",
      "未知\n"
     ]
    }
   ],
   "source": [
    "class age(object):\n",
    "    def __init__(self,a,b):\n",
    "        self.a=a\n",
    "        self.b=b\n",
    "    def func1(self):\n",
    "        if self.a<=18:\n",
    "            print(\"年轻\")\n",
    "        elif 18< self.a <=40:\n",
    "            print(\"中年\")\n",
    "        else:\n",
    "            print(\"老年\")\n",
    "    def gender(self):\n",
    "        if self.b==0:\n",
    "            print(\"女\")\n",
    "        elif self.b==1:\n",
    "            print(\"男\")\n",
    "        else:\n",
    "            print(\"未知\")\n",
    "age = age(42,\"男\")\n",
    "age.func1()\n",
    "age.gender()"
   ]
  },
  {
   "cell_type": "code",
   "execution_count": 4,
   "metadata": {},
   "outputs": [
    {
     "name": "stdout",
     "output_type": "stream",
     "text": [
      "不是素数\n"
     ]
    }
   ],
   "source": [
    "class number(object):\n",
    "    def __init__(self,a):\n",
    "        self.a = a\n",
    "    def check(self):\n",
    "        for i in range(2,self.a):\n",
    "            if self.a % i==0 :\n",
    "                print(\"不是素数\")\n",
    "                break\n",
    "        else:\n",
    "             print(\"是素数\")\n",
    "    \n",
    "g = number(4)\n",
    "g.check()\n",
    "\n",
    "\n"
   ]
  },
  {
   "cell_type": "code",
   "execution_count": 5,
   "metadata": {},
   "outputs": [
    {
     "name": "stdout",
     "output_type": "stream",
     "text": [
      "点击人机hdj\n",
      "hdj\n",
      "请选择人物：典韦，赵云，鲁班sax\n",
      "sax 战力---550 防御---300\n",
      "典韦 战力---500 防御---450 \n",
      "请输入开始sxa\n",
      "sxa 进入加载项......\n"
     ]
    }
   ],
   "source": [
    "import numpy as np\n",
    "class game(object):\n",
    "    \n",
    "    def Against(self):\n",
    "        choose = input(\"点击人机\"or\"多人对战\")\n",
    "        print(choose)\n",
    "    def tiaoxuan(self):\n",
    "        a = input('请选择人物：典韦，赵云，鲁班') \n",
    "        if a==\"典韦\":\n",
    "            print(a,\"战力---500 防御---450 \")\n",
    "        elif a==\"赵云\":\n",
    "            print(a,\"战力---300 防御---550\")\n",
    "        else:\n",
    "            print(a,\"战力---550 防御---300\")\n",
    "    def random(self):\n",
    "        res = np.random.choice(['典韦','赵云','鲁班'])\n",
    "        if res==\"典韦\":\n",
    "            print(res,\"战力---500 防御---450 \")\n",
    "        elif res==\"赵云\":\n",
    "            print(res,\"战力---300 防御---550\")\n",
    "        else:\n",
    "            print(res,\"战力---550 防御---300\")\n",
    "    def start(self):\n",
    "        b= input('请输入开始')\n",
    "        print(b,\"进入加载项......\")\n",
    "g = game()\n",
    "g.Against()\n",
    "g.tiaoxuan()\n",
    "g.random()\n",
    "g.start()\n",
    "        "
   ]
  },
  {
   "cell_type": "code",
   "execution_count": 2,
   "metadata": {},
   "outputs": [
    {
     "name": "stdout",
     "output_type": "stream",
     "text": [
      "1\t 5\t 12\t 22\t 35\t 51\t 70\t 92\t 117\t 145\t \n",
      "176\t 210\t 247\t 287\t 330\t 376\t 425\t 477\t 532\t 590\t \n",
      "651\t 715\t 782\t 852\t 925\t 1001\t 1080\t 1162\t 1247\t 1335\t \n",
      "1426\t 1520\t 1617\t 1717\t 1820\t 1926\t 2035\t 2147\t 2262\t 2380\t \n",
      "2501\t 2625\t 2752\t 2882\t 3015\t 3151\t 3290\t 3432\t 3577\t 3725\t \n",
      "3876\t 4030\t 4187\t 4347\t 4510\t 4676\t 4845\t 5017\t 5192\t 5370\t \n",
      "5551\t 5735\t 5922\t 6112\t 6305\t 6501\t 6700\t 6902\t 7107\t 7315\t \n",
      "7526\t 7740\t 7957\t 8177\t 8400\t 8626\t 8855\t 9087\t 9322\t 9560\t \n",
      "9801\t 10045\t 10292\t 10542\t 10795\t 11051\t 11310\t 11572\t 11837\t 12105\t \n",
      "12376\t 12650\t 12927\t 13207\t 13490\t 13776\t 14065\t 14357\t 14652\t 14950\t \n"
     ]
    }
   ],
   "source": [
    "def getPentagona1Number():\n",
    "    a = 0\n",
    "    for i in range(1,101):\n",
    "        number=(i*(3*i-1)/2)\n",
    "        print(int(number),end = \"\\t \")#制表符\n",
    "        a += 1\n",
    "        if a % 10 ==0:\n",
    "            print(end = \"\\n\")\n",
    "getPentagona1Number()"
   ]
  },
  {
   "cell_type": "code",
   "execution_count": 4,
   "metadata": {},
   "outputs": [
    {
     "name": "stdout",
     "output_type": "stream",
     "text": [
      "6\n"
     ]
    }
   ],
   "source": [
    "def sumDigits(n):\n",
    "    #str将括号中的内容强制转换为字符串\n",
    "    str_=str(n)\n",
    "    int_ = 0\n",
    "    for i in str_:\n",
    "        int_ += int(i)#int_ =int_+int(i)\n",
    "    print(int_)\n",
    "sumDigits(123)"
   ]
  },
  {
   "cell_type": "code",
   "execution_count": 6,
   "metadata": {},
   "outputs": [
    {
     "name": "stdout",
     "output_type": "stream",
     "text": [
      "[1, 2, 3]\n"
     ]
    }
   ],
   "source": [
    "\n",
    "def displaySortedNumber(num1,num2,num3):\n",
    "    nums = [num1,num2,num3]\n",
    "    nums.sort()#排序，默认以升序，reverse：翻转\n",
    "    print(nums)\n",
    "displaySortedNumber(3,2,1)\n"
   ]
  },
  {
   "cell_type": "code",
   "execution_count": 7,
   "metadata": {},
   "outputs": [
    {
     "name": "stdout",
     "output_type": "stream",
     "text": [
      "1 86000.0\n",
      "2 369800.0\n",
      "3 1590140.0\n",
      "4 6837602.0\n",
      "5 29401688.599999998\n",
      "6 126427260.97999997\n",
      "7 543637222.2139999\n",
      "8 2337640055.5201993\n",
      "9 10051852238.736856\n",
      "10 43222964626.56848\n",
      "11 185858747894.24448\n",
      "12 799192615945.2512\n",
      "13 3436528248564.58\n",
      "14 14777071468827.693\n",
      "15 63541407315959.08\n",
      "16 273228051458624.0\n",
      "17 1174880621272083.0\n",
      "18 5051986671469956.0\n",
      "19 2.172354268732081e+16\n",
      "20 9.341123355547947e+16\n",
      "21 4.016683042885617e+17\n",
      "22 1.7271737084408154e+18\n",
      "23 7.426846946295506e+18\n",
      "24 3.193544186907067e+19\n",
      "25 1.3732240003700389e+20\n",
      "26 5.904863201591166e+20\n",
      "27 2.539091176684201e+21\n",
      "28 1.0918092059742065e+22\n",
      "29 4.694779585689088e+22\n",
      "30 2.0187552218463076e+23\n"
     ]
    }
   ],
   "source": [
    "def futureTnvestmentValue(investmentAmount,monthlyInterestRate,years):\n",
    "    years = years+1\n",
    "    for i in range(1,years):\n",
    "        income = investmentAmount+monthlyInterestRate*investmentAmount\n",
    "        print(i,income)\n",
    "        investmentAmount=income\n",
    "futureTnvestmentValue(20000,3.3,30)"
   ]
  },
  {
   "cell_type": "code",
   "execution_count": 8,
   "metadata": {},
   "outputs": [
    {
     "name": "stdout",
     "output_type": "stream",
     "text": [
      "2 3 4 5 6 7 8 9 : ;\n",
      "< = > ? @ A B C D E\n",
      "F G H I J K L M N O\n",
      "P Q R S T U V W X Y\n"
     ]
    }
   ],
   "source": [
    "def printChar(ch1,ch2,numberPerLine):\n",
    "    a=ord(ch1)+1\n",
    "    b=ord(ch2)\n",
    "    n=0\n",
    "    \n",
    "    for i in range(a,b):\n",
    "        n=n+1\n",
    "        if n%numberPerLine !=0:\n",
    "            print(chr(i),end=\" \")\n",
    "        else:\n",
    "            print(chr(i))\n",
    "printChar('1','Z',10)"
   ]
  },
  {
   "cell_type": "code",
   "execution_count": 9,
   "metadata": {},
   "outputs": [
    {
     "name": "stdout",
     "output_type": "stream",
     "text": [
      "2010 年 :365天\n",
      "2011 年 :365天\n",
      "2012 年 :366天\n",
      "2013 年 :365天\n",
      "2014 年 :365天\n",
      "2015 年 :365天\n",
      "2016 年 :366天\n",
      "2017 年 :365天\n",
      "2018 年 :365天\n",
      "2019 年 :365天\n",
      "2020 年 :366天\n"
     ]
    }
   ],
   "source": [
    "def numberOfDaysInAYear(year):\n",
    "    for i in range(2010,2021):\n",
    "        if i % 4 == 0 and i%100 != 0:\n",
    "            print(i , '年',':366天')\n",
    "        else:\n",
    "            print(i , '年',':365天')\n",
    "\n",
    "numberOfDaysInAYear(2)"
   ]
  },
  {
   "cell_type": "code",
   "execution_count": 10,
   "metadata": {},
   "outputs": [
    {
     "name": "stdout",
     "output_type": "stream",
     "text": [
      "6.324555320336759\n"
     ]
    }
   ],
   "source": [
    "\n",
    "import math\n",
    "def distance(x1,y1,x2,y2):   \n",
    "    d1 = x1 - x2\n",
    "    d2 = y1 - y2\n",
    "    #计算两点之间的距离\n",
    "    distance = math.sqrt(d1**2 + d2**2)\n",
    "    print(distance)\n",
    "distance(2,5,8,7)"
   ]
  },
  {
   "cell_type": "code",
   "execution_count": 11,
   "metadata": {},
   "outputs": [
    {
     "name": "stdout",
     "output_type": "stream",
     "text": [
      "2 3\n",
      "3 7\n",
      "5 31\n",
      "7 127\n",
      "11 2047\n",
      "13 8191\n",
      "17 131071\n",
      "19 524287\n",
      "23 8388607\n",
      "29 536870911\n",
      "31 2147483647\n"
     ]
    }
   ],
   "source": [
    "def ms(p):\n",
    "    a=pow(2,p)-1\n",
    "    b=2\n",
    "    if p==2:\n",
    "        print(p,a)\n",
    "    for i in range(2,p):\n",
    "        b=b+1\n",
    "        if p%i==0:\n",
    "            break\n",
    "        if b == p:\n",
    "            print(p,a)\n",
    "            \n",
    "for p in range(1,32):\n",
    "    ms(p)\n"
   ]
  },
  {
   "cell_type": "code",
   "execution_count": 12,
   "metadata": {},
   "outputs": [
    {
     "name": "stdout",
     "output_type": "stream",
     "text": [
      "1565266686.7024457\n",
      "Cuurrent date and time is 2019 年 8 月 8 日 20 : 18 : 6\n"
     ]
    }
   ],
   "source": [
    "import time\n",
    "print(time.time())\n",
    "time = time.localtime(time.time())\n",
    "print(\"Cuurrent date and time is\",time.tm_year,\"年\",\n",
    "      time.tm_mon,\"月\",time.tm_mday,\"日\",\n",
    "      time.tm_hour,\":\",time.tm_min,\":\",time.tm_sec)"
   ]
  },
  {
   "cell_type": "code",
   "execution_count": 13,
   "metadata": {},
   "outputs": [
    {
     "name": "stdout",
     "output_type": "stream",
     "text": [
      "您第一次抛出的点数为: 2\n",
      "您第二次抛出的点数为: 5\n",
      "您抛出的两次点数之和为： 7\n",
      "你赢了！！！\n"
     ]
    }
   ],
   "source": [
    "import numpy as np\n",
    "def ds():\n",
    "    res1 = np.random.choice([1,2,3,4,5,6])\n",
    "    print(\"您第一次抛出的点数为:\",res1)\n",
    "    res2 = np.random.choice([1,2,3,4,5,6])\n",
    "    print(\"您第二次抛出的点数为:\",res2)\n",
    "    res = res1 + res2\n",
    "    print(\"您抛出的两次点数之和为：\",res)\n",
    "    return res\n",
    "res = ds()\n",
    "if res==2 or res==3 or res==12:\n",
    "    print(\"你输了！！！\")\n",
    "elif res==7 or res==11:\n",
    "    print(\"你赢了！！！\")\n",
    "else:\n",
    "    res3 = res\n",
    "    res = ds()\n",
    "    if res ==7 or res == res3:\n",
    "        print(\"你赢了！！！\")\n",
    "    else:\n",
    "        print(\"请开始下一局！\")"
   ]
  },
  {
   "cell_type": "code",
   "execution_count": null,
   "metadata": {},
   "outputs": [],
   "source": []
  }
 ],
 "metadata": {
  "kernelspec": {
   "display_name": "Python 3",
   "language": "python",
   "name": "python3"
  },
  "language_info": {
   "codemirror_mode": {
    "name": "ipython",
    "version": 3
   },
   "file_extension": ".py",
   "mimetype": "text/x-python",
   "name": "python",
   "nbconvert_exporter": "python",
   "pygments_lexer": "ipython3",
   "version": "3.7.3"
  }
 },
 "nbformat": 4,
 "nbformat_minor": 2
}
