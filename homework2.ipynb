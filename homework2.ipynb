{
 "cells": [
  {
   "cell_type": "code",
   "execution_count": 12,
   "metadata": {},
   "outputs": [
    {
     "name": "stdout",
     "output_type": "stream",
     "text": [
      "矩形面积是：160\n",
      "矩形周长是：88\n"
     ]
    }
   ],
   "source": [
    "class Rectangle(object):\n",
    "    def __init__(self, width =1, height =2):\n",
    "        self.width = width\n",
    "        self.height = height\n",
    "    def getArea(self):\n",
    "        a = self.width * self.height\n",
    "        print(\"矩形面积是：%d\" % a)\n",
    "    def getPerimeter(self):\n",
    "        b = self.width * 2 + self.height * 2\n",
    "        print(\"矩形周长是：%d\" % b)\n",
    "        \n",
    "\n",
    "rectangle = Rectangle(4,40)\n",
    "rectangle.getArea()\n",
    "rectangle.getPerimeter()\n"
   ]
  },
  {
   "cell_type": "code",
   "execution_count": 1,
   "metadata": {},
   "outputs": [
    {
     "name": "stdout",
     "output_type": "stream",
     "text": [
      "请输入取钱金额\n",
      "输入111\n",
      "您成功取出 111 元\n",
      "请输入存钱金额\n",
      "输入111\n",
      "您成功存入 111 元\n",
      "1122 您账户余额为： 100 利率为： 0.045 利息为 4.5\n"
     ]
    }
   ],
   "source": [
    "class Account(object):\n",
    "    def __init__(self):\n",
    "        self.InterestRate=0\n",
    "        self.annuallnterestRate=100\n",
    "        self.Interest=0\n",
    "    def information(self,id,yu_e):\n",
    "        self.id=id\n",
    "        self.yu_e=yu_e\n",
    "    def getMonthlyInterestRate(self,InterestRate):\n",
    "        self.InterestRate=InterestRate\n",
    "    def getMonthlyInterest(self):\n",
    "        A=self.annuallnterestRate*self.InterestRate\n",
    "        self.Interest=A\n",
    "    def withdraw(self):\n",
    "        print(\"请输入取钱金额\")\n",
    "        res = input(\"输入\")\n",
    "        self.annuallnterestRate = self.annuallnterestRate - int(res)\n",
    "        print(\"您成功取出\",res,\"元\")\n",
    "    def deposit(self):\n",
    "        print(\"请输入存钱金额\")\n",
    "        res1=input(\"输入\")\n",
    "        self.annuallnterestRate=self.annuallnterestRate+int(res1)\n",
    "        print(\"您成功存入\",res1,\"元\")\n",
    "        \n",
    "        print(self.id,\"您账户余额为：\",self.annuallnterestRate,\"利率为：\",self.InterestRate,\"利息为\",self.Interest)\n",
    "        \n",
    "E = Account()\n",
    "E.information(1122,20000)\n",
    "E.getMonthlyInterestRate(0.045)\n",
    "E.getMonthlyInterest()\n",
    "E.withdraw()\n",
    "E.deposit()"
   ]
  },
  {
   "cell_type": "code",
   "execution_count": 5,
   "metadata": {},
   "outputs": [
    {
     "name": "stdout",
     "output_type": "stream",
     "text": [
      "SLOW档\n",
      "打开\n",
      "半径为：5.000000\n",
      "风扇颜色为：蓝色\n"
     ]
    }
   ],
   "source": [
    "class Fan(object): \n",
    "    def init(self,speed ,on,radius ,color ): \n",
    "        self._speed = speed \n",
    "        self._on = on \n",
    "        self._radius = radius \n",
    "        self._color = color \n",
    "    def methods(self):\n",
    "        if self._speed ==1: \n",
    "            print(\"SLOW档\") \n",
    "        elif self._speed ==2: \n",
    "            print(\"MEDIUM档\")\n",
    "        else: print(\"FAST档\") \n",
    "    def On(self): \n",
    "        if self._on ==\"False\": \n",
    "            print(\"关闭\")\n",
    "        else: print(\"打开\") \n",
    "    def Radius(self): \n",
    "        a = self._radius \n",
    "        print(\"半径为：%f\" % a) \n",
    "    def Color(self): \n",
    "        b= self._color \n",
    "        print(\"风扇颜色为：%s\" % b ) \n",
    "        f = Fan(1,\"FAST\",5,\"蓝色\") \n",
    "f.methods() \n",
    "f.On() \n",
    "f.Radius() \n",
    "f.Color()"
   ]
  },
  {
   "cell_type": "markdown",
   "metadata": {},
   "source": []
  },
  {
   "cell_type": "code",
   "execution_count": 34,
   "metadata": {},
   "outputs": [
    {
     "name": "stdout",
     "output_type": "stream",
     "text": [
      "多边形的周长为： 8\n",
      "多边形的面积： 5.18978766026937\n"
     ]
    }
   ],
   "source": [
    "import math\n",
    "class RegularPolygon(object):\n",
    "    def __init__(self,n=3,side=1,x=0,y=0):\n",
    "        self.n = n\n",
    "        self.side = side\n",
    "        self.x = x\n",
    "        self.y = y\n",
    "    def getPerimeter(self):\n",
    "        perimeter = self.n + self.side + self.x + self.y\n",
    "        print(\"多边形的周长为：\",perimeter)\n",
    "    def getArea(self):\n",
    "        area = (self.n * (self.side**2))/4 * (math.tan((3.14/self.n)))\n",
    "        print(\"多边形的面积：\",area)\n",
    "a = RegularPolygon(3,2,1,2,)\n",
    "a.getPerimeter()\n",
    "a.getArea()\n",
    "    "
   ]
  },
  {
   "cell_type": "code",
   "execution_count": 7,
   "metadata": {},
   "outputs": [
    {
     "name": "stdout",
     "output_type": "stream",
     "text": [
      "0.84375\n",
      "-0.21875\n"
     ]
    }
   ],
   "source": [
    "class LinearEquation(object):\n",
    "    def __init__(self,a,b,c,d,e,f):\n",
    "        self.__a=a\n",
    "        self.__b=b\n",
    "        self.__c=c\n",
    "        self.__d=d\n",
    "        self.__e=e\n",
    "        self.__f=f\n",
    "        self.x=0\n",
    "        self.y=0\n",
    "        self.z=0\n",
    "    def isSolvable(self):\n",
    "        z=self.__a*self.__d-self.__b*self.__c\n",
    "        if z !=0:\n",
    "            self.z=True\n",
    "        else:\n",
    "            self.z=False\n",
    "    def get(self):\n",
    "        self.x=(self.__e*self.__d-self.__b*self.__f)/(self.__a*self.__d-self.__b*self.__c)\n",
    "        self.y=(self.__a*self.__f-self.__e*self.__c)/(self.__a*self.__d-self.__b*self.__c)\n",
    "    def getX(self):\n",
    "        self.isSolvable()\n",
    "        if self.z == True:\n",
    "            self.get()\n",
    "            print(self.x)\n",
    "        else:\n",
    "            pass\n",
    "    def getY(self):\n",
    "        self.isSolvable()\n",
    "        if self.z == True:\n",
    "            self.get()\n",
    "            print(self.y)\n",
    "        else:\n",
    "            pass\n",
    "        \n",
    "qwe=LinearEquation(10,2,3,7,8,1)\n",
    "qwe.getX()\n",
    "qwe.getY()"
   ]
  },
  {
   "cell_type": "code",
   "execution_count": null,
   "metadata": {},
   "outputs": [],
   "source": []
  },
  {
   "cell_type": "code",
   "execution_count": null,
   "metadata": {},
   "outputs": [],
   "source": []
  }
 ],
 "metadata": {
  "kernelspec": {
   "display_name": "Python 3",
   "language": "python",
   "name": "python3"
  },
  "language_info": {
   "codemirror_mode": {
    "name": "ipython",
    "version": 3
   },
   "file_extension": ".py",
   "mimetype": "text/x-python",
   "name": "python",
   "nbconvert_exporter": "python",
   "pygments_lexer": "ipython3",
   "version": "3.7.3"
  }
 },
 "nbformat": 4,
 "nbformat_minor": 2
}
