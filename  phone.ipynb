{
 "cells": [
  {
   "cell_type": "code",
   "execution_count": 17,
   "metadata": {},
   "outputs": [
    {
     "name": "stdout",
     "output_type": "stream",
     "text": [
      "输入邮箱号注册DHL；\n",
      "DHL；\n",
      "请输入密码dsUhfN\n",
      "请输入密码dasj\n",
      "密码不一致，请重新输入\n",
      "916 0 0 4\n"
     ]
    }
   ],
   "source": [
    "import numpy as np\n",
    "import random\n",
    "class zhuce(object):\n",
    "    \n",
    "    def youxiang(self):\n",
    "        a = input(\"输入邮箱号注册\")\n",
    "        print(a)\n",
    "\n",
    "    def mima(self):\n",
    "        b = input(\"请输入密码\")\n",
    "        c = input(\"请输入密码\")\n",
    "        if b == c:\n",
    "            print(\"密码一致，请进行验证码验证\")\n",
    "        else:\n",
    "            print(print\"密码不一致，请重新输入\")\n",
    "    def yanzhengma(self):\n",
    "        d1 = random.randrange(1000,9999,4)#随机选取4个数\n",
    "        d = input(\"请输入验证码\")\n",
    "        if d == d1:\n",
    "            print(\"验证码成功\")\n",
    "        else：\n",
    "            print(\"验证码失效\")\n",
    "    def shoujihao(self):\n",
    "        e = input(\"请输入手机号\")\n",
    "        print(e)\n",
    "        \n",
    "        \n",
    "z = zhuce()\n",
    "z.youxiang()\n",
    "z.mima()\n",
    "z.yanzhengma()\n",
    "z.shoujihao()"
   ]
  },
  {
   "cell_type": "code",
   "execution_count": null,
   "metadata": {},
   "outputs": [],
   "source": []
  },
  {
   "cell_type": "code",
   "execution_count": null,
   "metadata": {},
   "outputs": [],
   "source": []
  }
 ],
 "metadata": {
  "kernelspec": {
   "display_name": "Python 3",
   "language": "python",
   "name": "python3"
  },
  "language_info": {
   "codemirror_mode": {
    "name": "ipython",
    "version": 3
   },
   "file_extension": ".py",
   "mimetype": "text/x-python",
   "name": "python",
   "nbconvert_exporter": "python",
   "pygments_lexer": "ipython3",
   "version": "3.7.3"
  }
 },
 "nbformat": 4,
 "nbformat_minor": 2
}
