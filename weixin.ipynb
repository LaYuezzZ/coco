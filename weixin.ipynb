{
 "cells": [
  {
   "cell_type": "code",
   "execution_count": 3,
   "metadata": {},
   "outputs": [
    {
     "name": "stdout",
     "output_type": "stream",
     "text": [
      "█\r"
     ]
    },
    {
     "name": "stderr",
     "output_type": "stream",
     "text": [
      "Getting uuid of QR code.\n",
      "Downloading QR code.\n",
      "Please scan the QR code to log in.\n",
      "Please press confirm on your phone.\n",
      "Loading the contact, this may take a little while.\n",
      "Login successfully as 小顽童\n"
     ]
    },
    {
     "name": "stdout",
     "output_type": "stream",
     "text": [
      "[<Friend: 小顽童>, <Friend: D小宝贝儿<span class=\"emoji emoji2747\"></span>>, <Friend: A最最最最最帅的哥哥<span class=\"emoji emoji1f63d\"></span>>, <Friend: A妈>, <Friend: D石磊>, <Friend: D曹阳>, <Friend: C陈磊>, <Friend: G陈晓鹏>, <Friend: D从婷婷>, <Friend: D代行强>, <Friend: A爸爸>, <Friend: A大姨>, <Friend: A大姨>, <Friend: A大姨夫>, <Friend:  A独伊佳向阳店>, <Friend: A二婶>, <Friend: X高杰>, <Friend: A姑姑>, <Friend: X郭海霞>, <Friend: G郭宏雁>, <Friend: D贺娜>, <Friend: G侯倩>, <Friend: D焦晨旭>, <Friend: A舅舅>, <Friend: A可心>, <Friend: A孔繁华>, <Friend: A孔繁杰>, <Friend: C李翠萍>, <Friend: G李凯>, <Friend: G李凯>, <Friend: G李梦圆>, <Friend: X 刘和平>, <Friend: G刘淑敏>, <Friend: B刘玥>, <Friend: A利霞姑姑>, <Friend: A龙>, <Friend: C周皖东>, <Friend: A张彦龙>, <Friend: G张鑫雨>, <Friend:  D张诗童>, <Friend: D张娇娇>, <Friend: C张佳乐>, <Friend: D张毕力格>, <Friend: G袁宽>, <Friend: D杨海燕>, <Friend: B薛雅鹏>, <Friend: D邢正如>, <Friend: G武忠慧>, <Friend: X吴世杰>, <Friend: D吴东>, <Friend: Z张勇杰教练>, <Friend: Z袁氏肉夹馍>, <Friend: Z暴>, <Friend: Z俊涛>, <Friend: A毛毛>, <Friend: X马旭>, <Friend: A娜娜姑姑>, <Friend: X牛鑫磊>, <Friend: Z牵手>, <Friend: Z青安驾校_于琪13848179632>, <Friend: A冉冉>, <Friend: C尚骏龙>, <Friend: D郭智强>, <Friend: D石漫雨>, <Friend: D孙育新>, <Friend: C魏晓东>, <Friend: B魏彤>, <Friend: G王宇>, <Friend: D王影>, <Friend: D王晓萌>, <Friend: D张龙宇>, <Friend: D李圆圆>, <Friend: D郭志颖>, <Friend: D应统（2）张佳彤>, <Friend: D梁云鹏>, <Friend: G郭景新>, <Friend: G高臻睿>, <Friend: A芳芳姑姑>, <Friend: G辛燕春>, <Friend: G郭科>, <Friend: A佳佳哥哥>, <Friend: D田成>, <Friend: D刘绪哲>, <Friend: Z东郭先生>, <Friend: D刘静>, <Friend: Z 学无止境>, <Friend: D徐亭>, <Friend: D徐亭>, <Friend: G韩泽雨>, <Friend: A蕾蕾姑姑>, <Friend: L化学老师>, <Friend: L张新琦>, <Friend: L张瑞嵘>, <Friend: L丁丁丁>, <Friend: L英语老师>, <Friend: L万院长>, <Friend: L张娟>, <Friend: G魏语墨>, <Friend: D宗雅楠>, <Friend: Z呼市眼镜批发城（民族9楼店 )>, <Friend: Z郭教练>, <Friend: X张文慧>, <Friend: A鸿飞哥哥>, <Friend: D邢显昭>, <Friend: G张子麦>, <Friend: D罗广峰>, <Friend: C刘嫚倩>, <Friend: D冯晓鸣>, <Friend: G石近宇>, <Friend: X王雅如>, <Friend: A婶婶（全全叔叔）>, <Friend: Z张蕾>, <Friend: D袁婷>, <Friend: L长林>, <Friend: L范安荣>, <Friend: Z海尔售后安装小张>, <Friend: D王春宇>, <Friend: G高亚楠>, <Friend: Z呼大麦谷食堂一楼九记虾滑免费送餐>, <Friend: A权权叔叔>, <Friend: D汪涵>, <Friend: G臧晖>, <Friend: Z<span class=\"emoji emoji1f433\"></span>18804950472>, <Friend: G闫耀东>, <Friend: D史健>, <Friend: G王文国>, <Friend: X王渊>, <Friend: Z😀>, <Friend: D王琪>, <Friend: D白璐>, <Friend: D侯文涵>, <Friend: DZ小情绪〆>, <Friend: D李文慧>, <Friend: G居然>, <Friend: C朱斌>, <Friend: C张燕>, <Friend: D于天奇>, <Friend: G周庭芳>, <Friend: D善.>, <Friend: C王珏>, <Friend: C李鹏飞>, <Friend: Z呼市邮政局的>, <Friend: D李颖超>, <Friend: D赵昀>, <Friend: D李东生>, <Friend: X王晏明>, <Friend: D金新华>, <Friend: L张丽芳>, <Friend: A芳芳姑姑>, <Friend: C王璐>, <Friend: X陈璐>, <Friend: L刘林>, <Friend: Z冬梅15184762775>, <Friend: G郭鲸鱼>, <Friend: G武丽娜>, <Friend: B迷鹿<span class=\"emoji emoji2600\"></span>>, <Friend: L生物老师>, <Friend: D刘晶晶>, <Friend: G马如>, <Friend: C宗亚楠>, <Friend: G周倩>, <Friend: G武爽>, <Friend: G康小佳>, <Friend: D崔帅雯>, <Friend: B张静茹>, <Friend: C孟林伟>, <Friend: C梁必增>, <Friend: G刘淑敏>, <Friend: D王海连>, <Friend: D杨春泽>, <Friend: C祁娜>, <Friend: X申进福>, <Friend: A源源哥哥>, <Friend: A静美婶婶>, <Friend: B刘佳>, <Friend: D王润泽>, <Friend: G冯玉鸿>, <Friend: D小<span class=\"emoji emoji1f43d\"></span><span class=\"emoji emoji1f43d\"></span>.>, <Friend: A四老姑>, <Friend: B刘玥>, <Friend: Z胡大大。<span class=\"emoji emoji1f44a\"></span>>, <Friend: G郝志永>, <Friend: A李蔚含>, <Friend: G李建东>, <Friend: D沈亚旭>, <Friend: D郑婉新>, <Friend: G小哥>, <Friend: B苏紫艳>, <Friend: G杨阳>, <Friend: X马艳>, <Friend: B赵燕荣>, <Friend: X齐晓斌>, <Friend: D毕振东>, <Friend: X郭<span class=\"emoji emoji1f338\"></span>可爱<span class=\"emoji emoji2747\"></span>>, <Friend: X邢如斌>, <Friend: D张雅倩>, <Friend: C常鸿>, <Friend: D简影>, <Friend: D温守杰>, <Friend: X杨利娜>, <Friend: Z蔡水娇快递>, <Friend: X郭雅蓉>, <Friend: X王伟>, <Friend: G赵慧敏>, <Friend: G李阳阳>, <Friend: D张芮>, <Friend: C李鑫瑞>, <Friend: G陈晓静>, <Friend: B李丹丹>, <Friend: Z腾飞快递收发室>, <Friend: D张颖>, <Friend: B智琳>, <Friend: C尚俊龙>, <Friend: D邹存娜>, <Friend: X王海和>]\n"
     ]
    }
   ],
   "source": [
    "# 导入模块\n",
    "from wxpy import *\n",
    "# 初始化机器人，扫码登陆\n",
    "bot = Bot()\n",
    "my_friend = bot.friends()\n",
    "print (my_friend)"
   ]
  },
  {
   "cell_type": "code",
   "execution_count": 13,
   "metadata": {},
   "outputs": [
    {
     "name": "stdout",
     "output_type": "stream",
     "text": [
      "发送成功\n",
      "ok\n",
      "一共有多少人： 215\n",
      "男的人数： 97\n",
      "女的人数： 111\n",
      "未知性别的人数： 7\n",
      "男性比例： 0.4511627906976744\n",
      "女性比例： 0.5162790697674419\n"
     ]
    },
    {
     "name": "stderr",
     "output_type": "stream",
     "text": [
      "LOG OUT!\n"
     ]
    }
   ],
   "source": [
    "import requests\n",
    "class wefriend(object):\n",
    "    \n",
    "    def get_msg(self):\n",
    "        url =\"F:\\\\2345Downloads\\\\a.jpg\"\n",
    "        self.url = url\n",
    "    def  find(self):\n",
    "        friend = bot.friends().search(\"小宝贝儿\")[0]\n",
    "        friend.send(\"我喜欢的人物\")\n",
    "        print(\"发送成功\")\n",
    "        self.get_msg()\n",
    "        friend.send_image(self.url)\n",
    "        print(\"ok\")\n",
    "        \n",
    "    def tongji(self):\n",
    "        \n",
    "        print('一共有多少人：',len(my_friend))\n",
    "        my_friend_man = bot.friends().search(sex=1)\n",
    "        print('男的人数：',len(my_friend_man))\n",
    "        my_friend_woman = bot.friends().search(sex=2)\n",
    "        print('女的人数：',len(my_friend_woman))\n",
    "        my_friend_weizhi = len(my_friend)-len(my_friend_man)-len(my_friend_woman)\n",
    "        print('未知性别的人数：',my_friend_weizhi)\n",
    "        \n",
    "        print('男性比例：',len(my_friend_man)/len(my_friend))\n",
    "        print('女性比例：',len(my_friend_woman)/len(my_friend))\n",
    "        \n",
    "g = wefriend()\n",
    "g.get_msg()\n",
    "g.find()\n",
    "g.tongji()\n",
    "     \n"
   ]
  },
  {
   "cell_type": "code",
   "execution_count": null,
   "metadata": {},
   "outputs": [],
   "source": []
  }
 ],
 "metadata": {
  "kernelspec": {
   "display_name": "Python 3",
   "language": "python",
   "name": "python3"
  },
  "language_info": {
   "codemirror_mode": {
    "name": "ipython",
    "version": 3
   },
   "file_extension": ".py",
   "mimetype": "text/x-python",
   "name": "python",
   "nbconvert_exporter": "python",
   "pygments_lexer": "ipython3",
   "version": "3.7.3"
  }
 },
 "nbformat": 4,
 "nbformat_minor": 2
}
