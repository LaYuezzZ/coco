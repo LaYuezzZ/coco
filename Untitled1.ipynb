{
 "cells": [
  {
   "cell_type": "code",
   "execution_count": 12,
   "metadata": {},
   "outputs": [
    {
     "name": "stdout",
     "output_type": "stream",
     "text": [
      "矩形面积是：160\n",
      "矩形周长是：88\n"
     ]
    }
   ],
   "source": [
    "class Rectangle(object):\n",
    "    def __init__(self, width =1, height =2):\n",
    "        self.width = width\n",
    "        self.height = height\n",
    "    def getArea(self):\n",
    "        a = self.width * self.height\n",
    "        print(\"矩形面积是：%d\" % a)\n",
    "    def getPerimeter(self):\n",
    "        b = self.width * 2 + self.height * 2\n",
    "        print(\"矩形周长是：%d\" % b)\n",
    "        \n",
    "\n",
    "rectangle = Rectangle(4,40)\n",
    "rectangle.getArea()\n",
    "rectangle.getPerimeter()\n"
   ]
  },
  {
   "cell_type": "code",
   "execution_count": 27,
   "metadata": {},
   "outputs": [
    {
     "ename": "TypeError",
     "evalue": "unsupported operand type(s) for *: 'int' and 'method'",
     "output_type": "error",
     "traceback": [
      "\u001b[1;31m---------------------------------------------------------------------------\u001b[0m",
      "\u001b[1;31mTypeError\u001b[0m                                 Traceback (most recent call last)",
      "\u001b[1;32m<ipython-input-27-bb0a92666c77>\u001b[0m in \u001b[0;36m<module>\u001b[1;34m\u001b[0m\n\u001b[0;32m     34\u001b[0m     \u001b[0mprint\u001b[0m\u001b[1;33m(\u001b[0m\u001b[1;34m\"月利率为：%f\"\u001b[0m \u001b[1;33m%\u001b[0m \u001b[0myuelv\u001b[0m\u001b[1;33m)\u001b[0m\u001b[1;33m\u001b[0m\u001b[1;33m\u001b[0m\u001b[0m\n\u001b[0;32m     35\u001b[0m \u001b[1;33m\u001b[0m\u001b[0m\n\u001b[1;32m---> 36\u001b[1;33m \u001b[0mmain\u001b[0m\u001b[1;33m(\u001b[0m\u001b[1;33m)\u001b[0m\u001b[1;33m\u001b[0m\u001b[1;33m\u001b[0m\u001b[0m\n\u001b[0m",
      "\u001b[1;32m<ipython-input-27-bb0a92666c77>\u001b[0m in \u001b[0;36mmain\u001b[1;34m()\u001b[0m\n\u001b[0;32m     28\u001b[0m     \u001b[0mzhanghue\u001b[0m \u001b[1;33m=\u001b[0m \u001b[0mA\u001b[0m\u001b[1;33m.\u001b[0m\u001b[0mbalance\u001b[0m\u001b[1;33m(\u001b[0m\u001b[1;33m)\u001b[0m\u001b[1;33m\u001b[0m\u001b[1;33m\u001b[0m\u001b[0m\n\u001b[0;32m     29\u001b[0m     \u001b[0myuexi\u001b[0m\u001b[1;33m=\u001b[0m \u001b[0mA\u001b[0m\u001b[1;33m.\u001b[0m\u001b[0mgetMonthlyInterestRate\u001b[0m\u001b[1;33m(\u001b[0m\u001b[1;33m)\u001b[0m\u001b[1;33m\u001b[0m\u001b[1;33m\u001b[0m\u001b[0m\n\u001b[1;32m---> 30\u001b[1;33m     \u001b[0myuelv\u001b[0m \u001b[1;33m=\u001b[0m \u001b[0mA\u001b[0m\u001b[1;33m.\u001b[0m\u001b[0mgetMonthiyInterest\u001b[0m\u001b[1;33m(\u001b[0m\u001b[1;33m)\u001b[0m\u001b[1;33m\u001b[0m\u001b[1;33m\u001b[0m\u001b[0m\n\u001b[0m\u001b[0;32m     31\u001b[0m     \u001b[0mprint\u001b[0m\u001b[1;33m(\u001b[0m\u001b[1;34m\"用户的id号是：%d\"\u001b[0m \u001b[1;33m%\u001b[0m \u001b[0mid\u001b[0m\u001b[1;33m)\u001b[0m\u001b[1;33m\u001b[0m\u001b[1;33m\u001b[0m\u001b[0m\n\u001b[0;32m     32\u001b[0m     \u001b[0mprint\u001b[0m\u001b[1;33m(\u001b[0m\u001b[1;34m\"用户的账户额是：%f\"\u001b[0m \u001b[1;33m%\u001b[0m \u001b[0mzhanghue\u001b[0m\u001b[1;33m)\u001b[0m\u001b[1;33m\u001b[0m\u001b[1;33m\u001b[0m\u001b[0m\n",
      "\u001b[1;32m<ipython-input-27-bb0a92666c77>\u001b[0m in \u001b[0;36mgetMonthiyInterest\u001b[1;34m(self)\u001b[0m\n\u001b[0;32m     15\u001b[0m     \u001b[1;32mdef\u001b[0m \u001b[0mgetMonthiyInterest\u001b[0m\u001b[1;33m(\u001b[0m\u001b[0mself\u001b[0m\u001b[1;33m)\u001b[0m\u001b[1;33m:\u001b[0m\u001b[1;33m\u001b[0m\u001b[1;33m\u001b[0m\u001b[0m\n\u001b[0;32m     16\u001b[0m         \u001b[0mMonthlyInterestRate\u001b[0m \u001b[1;33m=\u001b[0m \u001b[0mself\u001b[0m\u001b[1;33m.\u001b[0m\u001b[0mgetMonthlyInterestRate\u001b[0m\u001b[1;33m\u001b[0m\u001b[1;33m\u001b[0m\u001b[0m\n\u001b[1;32m---> 17\u001b[1;33m         \u001b[0mMonthiyInterest\u001b[0m\u001b[1;33m=\u001b[0m\u001b[0mself\u001b[0m\u001b[1;33m.\u001b[0m\u001b[0m_balance\u001b[0m \u001b[1;33m*\u001b[0m \u001b[0mMonthlyInterestRate\u001b[0m\u001b[1;33m\u001b[0m\u001b[1;33m\u001b[0m\u001b[0m\n\u001b[0m\u001b[0;32m     18\u001b[0m         \u001b[1;32mreturn\u001b[0m \u001b[0mMonthiyInterest\u001b[0m\u001b[1;33m\u001b[0m\u001b[1;33m\u001b[0m\u001b[0m\n\u001b[0;32m     19\u001b[0m     \u001b[1;32mdef\u001b[0m \u001b[0mwithdraw\u001b[0m\u001b[1;33m(\u001b[0m\u001b[0mself\u001b[0m\u001b[1;33m,\u001b[0m\u001b[0ma\u001b[0m\u001b[1;33m)\u001b[0m\u001b[1;33m:\u001b[0m\u001b[1;33m\u001b[0m\u001b[1;33m\u001b[0m\u001b[0m\n",
      "\u001b[1;31mTypeError\u001b[0m: unsupported operand type(s) for *: 'int' and 'method'"
     ]
    }
   ],
   "source": [
    "class Account(object):\n",
    "    def __init__(self,id =0,balance = 100,annuallnterestRate =0):\n",
    "        self._id = id\n",
    "        self._balance = balance\n",
    "        self._annuallnterestRate = annuallnterestRate\n",
    "    def id(self):\n",
    "        return self._id\n",
    "    def balance(self):\n",
    "        return self._balance\n",
    "    def annuallnterestRate(self):\n",
    "        return self._annuallnterestRate\n",
    "    def getMonthlyInterestRate(self):\n",
    "        MonthlyInterestRate = (self._annuallnterestRate/100) / 12\n",
    "        return MonthlyInterestRate\n",
    "    def getMonthiyInterest(self):\n",
    "        MonthlyInterestRate = self.getMonthlyInterestRate \n",
    "        MonthiyInterest=self._balance * MonthlyInterestRate \n",
    "        return MonthiyInterest\n",
    "    def withdraw(self,a):\n",
    "        self._balance = self._balance - a\n",
    "        return  self._balance\n",
    "    def deposit(self,b):\n",
    "        self._balance = self._balance + b\n",
    "        return self._balance\n",
    "def main():\n",
    "    A = Account(1122,2000,4.5)\n",
    "    iD = A.id()\n",
    "    zhanghue = A.balance()\n",
    "    yuexi= A.getMonthlyInterestRate()\n",
    "    yuelv = A.getMonthiyInterest()\n",
    "    print(\"用户的id号是：%d\" % id)\n",
    "    print(\"用户的账户额是：%f\" % zhanghue)\n",
    "    print(\"月利息为：%f\" %  yuexi)\n",
    "    print(\"月利率为：%f\" % yuelv)\n",
    "\n",
    "main()"
   ]
  },
  {
   "cell_type": "code",
   "execution_count": 31,
   "metadata": {},
   "outputs": [
    {
     "name": "stdout",
     "output_type": "stream",
     "text": [
      "SLOW档\n",
      "打开\n",
      "半径为：5.000000\n",
      "风扇颜色为：蓝色\n"
     ]
    }
   ],
   "source": [
    "class Fan(object):\n",
    "    def __init__(self,speed ,on,radius ,color ):\n",
    "        self._speed = speed\n",
    "        self._on = on\n",
    "        self._radius = radius\n",
    "        self._color = color\n",
    "    def methods(self):\n",
    "        if self._speed ==1:\n",
    "            print(\"SLOW档\")\n",
    "        elif self._speed ==2:\n",
    "            print(\"MEDIUM档\")\n",
    "        else:\n",
    "            print(\"FAST档\")\n",
    "    def On(self):\n",
    "        if self._on ==\"False\":\n",
    "            print(\"关闭\")\n",
    "        else:\n",
    "            print(\"打开\")\n",
    "    def Radius(self):\n",
    "        a = self._radius \n",
    "        print(\"半径为：%f\" % a)\n",
    "    def Color(self):\n",
    "        b= self._color \n",
    "        print(\"风扇颜色为：%s\" % b )\n",
    "f = Fan(1,\"FAST\",5,\"蓝色\")\n",
    "f.methods()\n",
    "f.On()\n",
    "f.Radius()\n",
    "f.Color()\n",
    "\n"
   ]
  },
  {
   "cell_type": "code",
   "execution_count": 34,
   "metadata": {},
   "outputs": [
    {
     "name": "stdout",
     "output_type": "stream",
     "text": [
      "多边形的周长为： 8\n",
      "多边形的面积： 5.18978766026937\n"
     ]
    }
   ],
   "source": [
    "import math\n",
    "class RegularPolygon(object):\n",
    "    def __init__(self,n=3,side=1,x=0,y=0):\n",
    "        self.n = n\n",
    "        self.side = side\n",
    "        self.x = x\n",
    "        self.y = y\n",
    "    def getPerimeter(self):\n",
    "        perimeter = self.n + self.side + self.x + self.y\n",
    "        print(\"多边形的周长为：\",perimeter)\n",
    "    def getArea(self):\n",
    "        area = (self.n * (self.side**2))/4 * (math.tan((3.14/self.n)))\n",
    "        print(\"多边形的面积：\",area)\n",
    "a = RegularPolygon(3,2,1,2,)\n",
    "a.getPerimeter()\n",
    "a.getArea()\n",
    "    "
   ]
  },
  {
   "cell_type": "code",
   "execution_count": null,
   "metadata": {},
   "outputs": [],
   "source": []
  },
  {
   "cell_type": "code",
   "execution_count": null,
   "metadata": {},
   "outputs": [],
   "source": []
  }
 ],
 "metadata": {
  "kernelspec": {
   "display_name": "Python 3",
   "language": "python",
   "name": "python3"
  },
  "language_info": {
   "codemirror_mode": {
    "name": "ipython",
    "version": 3
   },
   "file_extension": ".py",
   "mimetype": "text/x-python",
   "name": "python",
   "nbconvert_exporter": "python",
   "pygments_lexer": "ipython3",
   "version": "3.7.3"
  }
 },
 "nbformat": 4,
 "nbformat_minor": 2
}
